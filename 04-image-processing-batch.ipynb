{
 "cells": [
  {
   "cell_type": "markdown",
   "metadata": {
    "slideshow": {
     "slide_type": "slide"
    }
   },
   "source": [
    "# Image Processing and Analysis with ImageJ\n",
    "\n",
    "## Batch processing\n",
    "\n",
    "Jan Eglinger\n",
    "\n",
    "![FMI](http://www.fmi.ch/img/logo-FMI-grey.gif)\n",
    "\n",
    "<small>Friedrich Miescher Institute for Biomedical Research (FMI)\n",
    "Basel, Switzerland</small>\n",
    "\n",
    "\n",
    "Fribourg, March 14 - 15, 2018\n"
   ]
  },
  {
   "cell_type": "markdown",
   "metadata": {
    "slideshow": {
     "slide_type": "slide"
    }
   },
   "source": [
    "### Batch processing\n",
    "\n",
    "* Processing stacks\n",
    "* Macro recorder\n",
    "* Make your code generic\n",
    "* Process > Batch > Macro...\n",
    "* Script editor\n",
    "* Batch processor\n",
    "\n"
   ]
  },
  {
   "cell_type": "markdown",
   "metadata": {
    "slideshow": {
     "slide_type": "slide"
    }
   },
   "source": [
    "#### Stack processing\n",
    "\n",
    "* *File > Import > Image Sequence*\n",
    "* Drag a folder onto the ImageJ toolbar to open it as a (virtual) stack\n"
   ]
  },
  {
   "cell_type": "markdown",
   "metadata": {
    "slideshow": {
     "slide_type": "slide"
    }
   },
   "source": [
    "#### Macro recorder and simple batch processing\n",
    "\n",
    "* *Plugins > Macros > Record...*\n",
    "* *Process > Batch > Macro...*\n"
   ]
  },
  {
   "cell_type": "markdown",
   "metadata": {
    "slideshow": {
     "slide_type": "slide"
    }
   },
   "source": [
    "#### Script editor\n",
    "\n",
    "* *File > New > Script* (on US keyboards, use <kbd>[</kbd> to open the script editor)\n",
    "* Use the *Process Folder* template (*Templates > ImageJ 1.x > Examples > Process Folder (IJ1 Macro)*)\n",
    "\n",
    "https://imagej.net/Introduction_into_Macro_Programming\n",
    "\n",
    "https://imagej.net/developer/macro/macros.html\n",
    "\n"
   ]
  },
  {
   "cell_type": "markdown",
   "metadata": {
    "slideshow": {
     "slide_type": "slide"
    }
   },
   "source": [
    "#### Script parameters\n",
    "\n",
    "* https://imagej.net/Script_Parameters"
   ]
  },
  {
   "cell_type": "markdown",
   "metadata": {
    "slideshow": {
     "slide_type": "slide"
    }
   },
   "source": [
    "#### Batch processor\n",
    "\n",
    "* Activate the *batch processor* update site: `http://sites.imagej.net/batch-processor/`\n",
    "* Put a script containing a `@#File` input parameter in some subfolder of your `Fiji.app/scripts/` folder\n",
    "* When searching for the script using the search bar, you now have a **Batch** button that will run your script in batch"
   ]
  }
 ],
 "metadata": {
  "celltoolbar": "Slideshow",
  "kernelspec": {
   "display_name": "SciJava",
   "language": "groovy",
   "name": "scijava"
  },
  "language_info": {
   "codemirror_mode": "groovy",
   "file_extension": "",
   "mimetype": "",
   "name": "scijava",
   "nbconverter_exporter": "",
   "pygments_lexer": "groovy",
   "version": "1.0"
  },
  "livereveal": {
   "autolaunch": true,
   "scroll": true
  }
 },
 "nbformat": 4,
 "nbformat_minor": 2
}
