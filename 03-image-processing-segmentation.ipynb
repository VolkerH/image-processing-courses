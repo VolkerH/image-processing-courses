{
 "cells": [
  {
   "cell_type": "markdown",
   "metadata": {
    "slideshow": {
     "slide_type": "slide"
    }
   },
   "source": [
    "# Image Processing and Analysis with ImageJ\n",
    "\n",
    "Jan Eglinger\n",
    "\n",
    "![FMI](http://www.fmi.ch/img/logo-FMI-grey.gif)\n",
    "\n",
    "<small>Friedrich Miescher Institute for Biomedical Research (FMI)\n",
    "Basel, Switzerland</small>\n",
    "\n",
    "\n",
    "Fribourg, March 14 - 15, 2018\n"
   ]
  },
  {
   "cell_type": "markdown",
   "metadata": {
    "slideshow": {
     "slide_type": "slide"
    }
   },
   "source": [
    "### Segmentation\n",
    "\n",
    "* ROIs\n",
    "* Masks\n",
    "* Thresholding\n",
    "* Watershed\n",
    "* Skeletonization\n"
   ]
  },
  {
   "cell_type": "markdown",
   "metadata": {
    "slideshow": {
     "slide_type": "slide"
    }
   },
   "source": [
    "#### Regions Of Interest (ROI)\n",
    "\n",
    "* ROI Manager\n",
    "* Restore Selection\n"
   ]
  },
  {
   "cell_type": "markdown",
   "metadata": {
    "slideshow": {
     "slide_type": "slide"
    }
   },
   "source": [
    "#### Binary masks\n"
   ]
  },
  {
   "cell_type": "markdown",
   "metadata": {
    "slideshow": {
     "slide_type": "slide"
    }
   },
   "source": [
    "#### Thresholding"
   ]
  },
  {
   "cell_type": "markdown",
   "metadata": {
    "slideshow": {
     "slide_type": "slide"
    }
   },
   "source": [
    "#### Exercise\n",
    "\n",
    "* Measure length of larvae"
   ]
  },
  {
   "cell_type": "markdown",
   "metadata": {
    "slideshow": {
     "slide_type": "slide"
    }
   },
   "source": [
    "### Batch processing\n",
    "\n",
    "* Macro recorder\n",
    "* Make your code generic\n",
    "* Process > Batch > Macro...\n",
    "* Script editor\n",
    "\n"
   ]
  }
 ],
 "metadata": {
  "kernelspec": {
   "display_name": "SciJava",
   "language": "groovy",
   "name": "scijava"
  },
  "language_info": {
   "codemirror_mode": "groovy",
   "file_extension": "",
   "mimetype": "",
   "name": "scijava",
   "nbconverter_exporter": "",
   "pygments_lexer": "groovy",
   "version": "1.0"
  },
  "livereveal": {
   "autolaunch": true,
   "scroll": true
  }
 },
 "nbformat": 4,
 "nbformat_minor": 2
}
