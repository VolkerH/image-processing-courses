{
 "cells": [
  {
   "cell_type": "markdown",
   "metadata": {
    "slideshow": {
     "slide_type": "slide"
    }
   },
   "source": [
    "# Image Processing and Analysis with ImageJ\n",
    "\n",
    "## Segmentation\n",
    "\n",
    "Jan Eglinger\n",
    "\n",
    "![FMI](http://www.fmi.ch/img/logo-FMI-grey.gif)\n",
    "\n",
    "<small>Friedrich Miescher Institute for Biomedical Research (FMI)\n",
    "Basel, Switzerland</small>\n",
    "\n",
    "\n",
    "Fribourg, March 14 - 15, 2018\n"
   ]
  },
  {
   "cell_type": "markdown",
   "metadata": {
    "slideshow": {
     "slide_type": "slide"
    }
   },
   "source": [
    "### Segmentation\n",
    "\n",
    "* ROIs\n",
    "* Thresholding\n",
    "* Masks\n",
    "* Watershed\n",
    "* Skeletonization\n"
   ]
  },
  {
   "cell_type": "markdown",
   "metadata": {
    "slideshow": {
     "slide_type": "slide"
    }
   },
   "source": [
    "#### Regions Of Interest (ROI)\n",
    "\n",
    "* ROI Manager (*Analyze > Tools > ROI Manager*)\n",
    "  * Combine and split ROIs\n",
    "  * Multi-measure\n",
    "\n",
    "![ROI Manager](images/screen/imagej-roi-manager.png)\n"
   ]
  },
  {
   "cell_type": "markdown",
   "metadata": {
    "slideshow": {
     "slide_type": "slide"
    }
   },
   "source": [
    "#### Regions Of Interest (ROI)\n",
    "\n",
    "* ROI Manager\n",
    "* Restore Selection\n"
   ]
  },
  {
   "cell_type": "markdown",
   "metadata": {
    "slideshow": {
     "slide_type": "slide"
    }
   },
   "source": [
    "#### Thresholding\n",
    "\n",
    "A threshold divides the image into foreground and background by pixel intensities. Automated threshold algorithms compute an optimal value that separates the histogram into a foreground and a background population.\n",
    "\n",
    "* Press <kbd>Shift</kbd><kbd>T</kbd> to bring up the threshold dialog\n",
    "\n",
    "![Thresholded image](images/screen/nucleus-threshold.png)"
   ]
  },
  {
   "cell_type": "markdown",
   "metadata": {
    "slideshow": {
     "slide_type": "slide"
    }
   },
   "source": [
    "#### Binary masks\n",
    "\n",
    "* **Selection ⇒ Mask**: *Edit > Selection > Create Mask*\n",
    "* **Mask ⇒ Selection**: *Edit > Selection > Create Selection*"
   ]
  },
  {
   "cell_type": "markdown",
   "metadata": {
    "slideshow": {
     "slide_type": "slide"
    }
   },
   "source": [
    "#### Watershed\n",
    "\n",
    "* https://imagej.net/Classic_Watershed\n",
    "* https://imagej.net/docs/guide/146-29.html#sub:Watershed\n"
   ]
  },
  {
   "cell_type": "markdown",
   "metadata": {
    "slideshow": {
     "slide_type": "slide"
    }
   },
   "source": [
    "#### Exercise\n",
    "\n",
    "* Measure length of larvae\n",
    "\n",
    "![Caterpillar](images/caterpillar.png)\n",
    "\n",
    "<small>Image source: [forum](http://forum.imagej.net/t/automatically-selecting-n-areas-per-picture-and-measuring-colour-or-brightness-therein/6501)</small>"
   ]
  },
  {
   "cell_type": "markdown",
   "metadata": {
    "slideshow": {
     "slide_type": "slide"
    }
   },
   "source": [
    "Questions ?\n",
    "\n",
    "---\n",
    "\n",
    "Next part: [Batch processing](04-image-processing-batch.ipynb)\n"
   ]
  }
 ],
 "metadata": {
  "kernelspec": {
   "display_name": "SciJava",
   "language": "groovy",
   "name": "scijava"
  },
  "language_info": {
   "codemirror_mode": "groovy",
   "file_extension": "",
   "mimetype": "",
   "name": "scijava",
   "nbconverter_exporter": "",
   "pygments_lexer": "groovy",
   "version": "1.0"
  },
  "livereveal": {
   "autolaunch": true,
   "scroll": true
  }
 },
 "nbformat": 4,
 "nbformat_minor": 2
}
