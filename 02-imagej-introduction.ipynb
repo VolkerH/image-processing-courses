{
 "cells": [
  {
   "cell_type": "markdown",
   "metadata": {
    "slideshow": {
     "slide_type": "slide"
    }
   },
   "source": [
    "# Introduction to ImageJ / Fiji\n",
    "\n",
    "Jan Eglinger\n",
    "\n",
    "![FMI](http://www.fmi.ch/img/logo-FMI-grey.gif)\n",
    "\n",
    "<small>Facility for Advanced Imaging and Microscopy (FAIM)</small><br>\n",
    "<small>Friedrich Miescher Institute for Biomedical Research (FMI)\n",
    "Basel, Switzerland</small>\n",
    "\n",
    "Basel, May 16, 2018\n"
   ]
  },
  {
   "cell_type": "markdown",
   "metadata": {
    "slideshow": {
     "slide_type": "slide"
    }
   },
   "source": [
    "## Agenda\n",
    "\n",
    "* User Interface — Toolbar, Search Bar, Image Window\n",
    "* Configuration — Update sites\n",
    "* Tools and Selections\n",
    "* Image Inspection\n",
    "* Scaling and Calibration\n",
    "* Image Manipulation\n"
   ]
  },
  {
   "cell_type": "markdown",
   "metadata": {
    "slideshow": {
     "slide_type": "slide"
    }
   },
   "source": [
    "### ImageJ — Fiji — ImageJ2\n",
    "\n",
    "Overview of ImageJ projects and history\n",
    "\n",
    "* https://imagej.net/ImageJ\n"
   ]
  },
  {
   "cell_type": "markdown",
   "metadata": {
    "slideshow": {
     "slide_type": "slide"
    }
   },
   "source": [
    "### The ImageJ Main Window\n",
    "\n",
    "![ImageJ Main Window](images/screen/imagej-main-window-annotated.png)\n",
    "\n"
   ]
  },
  {
   "cell_type": "markdown",
   "metadata": {
    "slideshow": {
     "slide_type": "slide"
    }
   },
   "source": [
    "#### The Toolbar\n",
    "\n",
    "* The toolbar offers selection tools as well as configurable functionality\n",
    "* *Right-clicking* on a tool with a small red triangle displays more choices\n",
    "* *Double-clicking* on a tool displays its options dialog\n",
    "\n",
    "![ImageJ Toolbar](images/screen/imagej-toolbar.png)\n",
    "\n"
   ]
  },
  {
   "cell_type": "markdown",
   "metadata": {
    "slideshow": {
     "slide_type": "slide"
    }
   },
   "source": [
    "#### Status Bar, Progress Bar and Search Bar\n",
    "<small>\n",
    "* The *Status Bar* displays information about the current status.\n",
    "  Click the status bar to display system and memory information\n",
    "* The *Progress Bar* shows up when commands are running\n",
    "* The *Search Bar* lets you search:\n",
    "  * all available commands\n",
    "  * ImageJ forum posts\n",
    "  * ImageJ wiki pages\n",
    "  * much more...\n",
    "</small>\n",
    "![ImageJ Status Bar and Search Bar](images/screen/status-progress-search-bar.png)\n"
   ]
  },
  {
   "cell_type": "markdown",
   "metadata": {
    "slideshow": {
     "slide_type": "slide"
    }
   },
   "source": [
    "#### ImageJ Menu\n",
    "\n",
    "* Main functionality in the [User Guide](https://imagej.net/docs/guide/146.html)\n",
    "* The menu is extensible by installing plugins\n",
    "* Use the **Search Bar** (type <kbd>L</kbd>) to find commands quickly"
   ]
  },
  {
   "cell_type": "markdown",
   "metadata": {
    "slideshow": {
     "slide_type": "slide"
    }
   },
   "source": [
    "#### ImageJ Updater\n",
    "\n",
    "* *Help > Update...* will update ImageJ and all plugins\n",
    "  (different from *Help > Update ImageJ...* which will only update core ImageJ1)\n",
    "* Select the [update sites](https://imagej.net/Following_an_update_site) you need."
   ]
  },
  {
   "cell_type": "markdown",
   "metadata": {
    "slideshow": {
     "slide_type": "slide"
    }
   },
   "source": [
    "#### Some handy shortcuts for ImageJ\n",
    "\n",
    "|     Keys                     |     Function                     |\n",
    "|------------------------------|----------------------------------|\n",
    "| <kbd>L</kbd>                 | Focus search bar                 |\n",
    "| <kbd>Shift</kbd><kbd>C</kbd> | Brightness &amp; Contrast dialog |\n",
    "| <kbd>Shift</kbd><kbd>Z</kbd> | Channels tool                    |\n",
    "| <kbd>Shift</kbd><kbd>T</kbd> | Adjust threshold                 |\n",
    "| <kbd>Shift</kbd><kbd>D</kbd> | Duplicate image                  |\n",
    "| <kbd>Shift</kbd><kbd>X</kbd> | Crop image                       |\n",
    "| <kbd>H</kbd>                 | Image histogram                  |\n",
    "| <kbd>T</kbd>                 | Add selection to ROI Manager     |\n",
    "| <kbd>M</kbd>                 | Measure                          |\n",
    "| <kbd>K</kbd>                 | Plot profile                     |\n",
    "| <kbd>Shift</kbd><kbd>E</kbd> | Restore selection                |\n",
    "| <kbd>R</kbd>                 | Revert image                     |\n",
    "\n",
    "\n"
   ]
  },
  {
   "cell_type": "markdown",
   "metadata": {
    "slideshow": {
     "slide_type": "slide"
    }
   },
   "source": [
    "#### Exercise - Pixels\n",
    "<small>\n",
    "* Load the **Cell Colony** sample image (*File > Open Samples > Cell Colony (31K)*)\n",
    "* Activate the **Pixel Inspector** tool by clicking on <kbd>&gt;&gt;</kbd> <kbd>Pixel Inspector</kbd>\n",
    "* What is the *coordinate* of the upper left corner pixel?\n",
    "* What is the *intensity* of the upper left corner pixel?\n",
    "</small>\n",
    "![The Pixel Inspector tool in Fiji](images/screen/fiji-toolbar-pixel-inpector.png)\n"
   ]
  },
  {
   "cell_type": "markdown",
   "metadata": {
    "slideshow": {
     "slide_type": "slide"
    }
   },
   "source": [
    "#### Image types of grayscale images in ImageJ\n",
    "\n",
    "|  Type  |   Range               |  Numeric type  |\n",
    "|--------|-----------------------|----------------|\n",
    "|  8-bit |         0 - 255       |     Integer    |\n",
    "| 16-bit |         0 - 65535     |     Integer    |\n",
    "| 32-bit | -Infinity - +Infinity | Floating point |\n"
   ]
  },
  {
   "cell_type": "markdown",
   "metadata": {
    "slideshow": {
     "slide_type": "slide"
    }
   },
   "source": [
    "#### Histograms\n",
    "\n",
    "* Press <kbd>H</kbd> (*Analyze > Histogram*) to get an image histogram"
   ]
  },
  {
   "cell_type": "markdown",
   "metadata": {
    "slideshow": {
     "slide_type": "slide"
    }
   },
   "source": [
    "#### Intensity profiles\n",
    "\n",
    "* *Analyze > Plot profile* <kbd>K</kbd>"
   ]
  },
  {
   "cell_type": "markdown",
   "metadata": {
    "slideshow": {
     "slide_type": "slide"
    }
   },
   "source": [
    "#### Bit depth - Exercise\n",
    "\n",
    "* Create a new image (*File > New > Image...*) containing a ramp in 8-bit\n",
    "* Multiply the image by 2 and observe the values\n",
    "\n",
    "---\n",
    "\n",
    "* Open the *M51 Galaxy* sample image\n"
   ]
  },
  {
   "cell_type": "markdown",
   "metadata": {
    "slideshow": {
     "slide_type": "slide"
    }
   },
   "source": [
    "#### Look-up tables\n",
    "\n",
    "Channel color information can be displayed with different false-color look-up tables (LUTs)\n",
    "\n",
    "* *Image > Lookup Tables* submenu\n",
    "* *LUT* tool button in the toolbar\n"
   ]
  },
  {
   "cell_type": "markdown",
   "metadata": {
    "slideshow": {
     "slide_type": "slide"
    }
   },
   "source": [
    "#### Color information\n",
    "\n",
    "RGB images are a special image type, containing 3 values per pixel (8 bit each):\n",
    "\n",
    "* Open the *Clown* sample image\n",
    "* Move the mouse over the image and observe the status bar: `value=126,039,020 (#7e2714)`"
   ]
  },
  {
   "cell_type": "markdown",
   "metadata": {
    "slideshow": {
     "slide_type": "slide"
    }
   },
   "source": [
    "#### Color spaces\n",
    "\n",
    "Convert between color spaces\n",
    "\n",
    "* *Image > Type*\n",
    "  * *RGB Stack*\n",
    "  * *HSB Stack*"
   ]
  },
  {
   "cell_type": "markdown",
   "metadata": {
    "slideshow": {
     "slide_type": "slide"
    }
   },
   "source": [
    "#### File formats\n",
    "\n",
    "A word of caution: avoid JPEG, as it produces compression artifacts\n",
    "\n",
    "* *File > Open Samples > Leaf (36K)*\n",
    "* Switch to HSB color space (*Image > Type > HSB Stack*)"
   ]
  },
  {
   "cell_type": "markdown",
   "metadata": {
    "slideshow": {
     "slide_type": "slide"
    }
   },
   "source": [
    "#### Image Metadata\n",
    "\n",
    "Images can be calibrated both in spatial dimensions (x,y,z) and in intensity values.\n",
    "\n",
    "* *Image > Properties...* <kbd>Shift</kbd><kbd>P</kbd>\n",
    "* *Analyze > Set Scale...*\n",
    "* *Analyze > Calibrate...*\n",
    "\n",
    "#### Exercise\n",
    "\n",
    "* Open the *Embryos* sample image\n",
    "* Set the scale according to the scale bar in the image\n",
    "* Measure the size of some objects in the image"
   ]
  },
  {
   "cell_type": "markdown",
   "metadata": {
    "slideshow": {
     "slide_type": "slide"
    }
   },
   "source": [
    "#### Dimensionality / Hyperstacks\n",
    "\n",
    "So far, we've looked at 2D images. Scientific images can contain many more dimensions:\n",
    "\n",
    "* Channels `c`\n",
    "* Z Slices `z`\n",
    "* Time frames `t`\n",
    "\n",
    "In ImageJ, multi-dimensional images are displayed as *hyperstacks*.\n",
    "\n",
    "---\n",
    "\n",
    "*File > Open Samples > Mitosis (26MB, 5D Stack)*\n"
   ]
  },
  {
   "cell_type": "markdown",
   "metadata": {
    "slideshow": {
     "slide_type": "slide"
    }
   },
   "source": [
    "![Mitosis](images/screen/imagej-hyperstack.png)"
   ]
  },
  {
   "cell_type": "markdown",
   "metadata": {
    "slideshow": {
     "slide_type": "slide"
    }
   },
   "source": [
    "#### Exercises\n",
    "\n",
    "* What's wrong with these sample images?\n",
    "\n",
    "  * *Fluorescent Cells*\n",
    "  * *Blobs*\n",
    "  "
   ]
  },
  {
   "cell_type": "markdown",
   "metadata": {
    "slideshow": {
     "slide_type": "slide"
    }
   },
   "source": [
    "#### Opening multi-dimensional images\n",
    "\n",
    "Images can be opened in various ways:\n",
    "\n",
    "* Drag and drop files to the toolbar\n",
    "* *File > Open...*\n",
    "* *File > Import > Image Sequence...*\n",
    "* Drag entire folder onto the toolbar\n",
    "* *Plugins > Bio-Formats > Bio-Formats Importer*\n"
   ]
  },
  {
   "cell_type": "markdown",
   "metadata": {
    "slideshow": {
     "slide_type": "slide"
    }
   },
   "source": [
    "### ImageJ resources\n",
    "\n",
    "* User guides and tutorials - https://imagej.net/User_Guides\n",
    "* Getting help - https://imagej.net/Help\n",
    "* The forum - http://forum.imagej.net/\n",
    "* Workshops and presentations - https://imagej.net/Presentations\n"
   ]
  }
 ],
 "metadata": {
  "celltoolbar": "Slideshow",
  "kernelspec": {
   "display_name": "SciJava",
   "language": "groovy",
   "name": "scijava"
  },
  "language_info": {
   "codemirror_mode": "groovy",
   "file_extension": "",
   "mimetype": "",
   "name": "scijava",
   "nbconverter_exporter": "",
   "pygments_lexer": "groovy",
   "version": "1.0"
  },
  "livereveal": {
   "autolaunch": true,
   "scroll": true
  }
 },
 "nbformat": 4,
 "nbformat_minor": 2
}
