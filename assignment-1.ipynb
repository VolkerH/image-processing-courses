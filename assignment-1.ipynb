{
 "cells": [
  {
   "cell_type": "markdown",
   "metadata": {},
   "source": [
    "### Assignment 1\n",
    "\n",
    "#### Dataset\n",
    "\n",
    "Images from the BBBC022 dataset (https://data.broadinstitute.org/bbbc/BBBC022/)\n",
    "\n",
    "**Subset**: wells `A01`-`A09`, positions `s1`-`s9`, channel `w1`\n",
    "\n",
    "![BBBC022_A02_s4_w1](images/BBBC022_A02_s4_w1.png)"
   ]
  },
  {
   "cell_type": "markdown",
   "metadata": {},
   "source": [
    "#### Task\n",
    "\n",
    "* Segment and count nuclei in channel 1 (`_w1` in the filename)\n",
    "* Measure the average cell size per image\n",
    "* Summarize cell counts and size distribution for the entire dataset"
   ]
  },
  {
   "cell_type": "markdown",
   "metadata": {},
   "source": [
    "#### Steps\n",
    "\n",
    "0. Determine the processing steps\n",
    "  0. Pre-process the image as necessary (background subtraction, smoothing)\n",
    "  0. Use a suitable threshold to select the nuclei\n",
    "  0. Apply a binary watershed\n",
    "  0. Use *Analyze Particles* to get the number of nuclei\n",
    "0. Create a generic macro for the analysis\n",
    "  0. Use the macro recorder to record the steps you perform\n",
    "  0. Make the macro generic by replacing specific names by variables\n",
    "  0. Test the macro on a newly opened file\n",
    "0. Batch process the full dataset using a stack of images\n",
    "  0. Open the dataset as a stack of images\n",
    "  0. Repeat the processing steps to generate the measurements\n",
    "  0. Create a macro that processes the entire dataset"
   ]
  }
 ],
 "metadata": {
  "kernelspec": {
   "display_name": "SciJava",
   "language": "groovy",
   "name": "scijava"
  },
  "language_info": {
   "codemirror_mode": "groovy",
   "file_extension": "",
   "mimetype": "",
   "name": "scijava",
   "nbconverter_exporter": "",
   "pygments_lexer": "groovy",
   "version": "1.0"
  }
 },
 "nbformat": 4,
 "nbformat_minor": 2
}
