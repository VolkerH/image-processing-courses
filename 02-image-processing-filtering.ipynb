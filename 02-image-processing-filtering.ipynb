{
 "cells": [
  {
   "cell_type": "markdown",
   "metadata": {
    "slideshow": {
     "slide_type": "slide"
    }
   },
   "source": [
    "# Image Processing and Analysis with ImageJ\n",
    "\n",
    "Jan Eglinger\n",
    "\n",
    "![FMI](http://www.fmi.ch/img/logo-FMI-grey.gif)\n",
    "\n",
    "<small>Friedrich Miescher Institute for Biomedical Research (FMI)\n",
    "Basel, Switzerland</small>\n",
    "\n",
    "\n",
    "Fribourg, March 14 - 15, 2018\n"
   ]
  },
  {
   "cell_type": "markdown",
   "metadata": {
    "slideshow": {
     "slide_type": "slide"
    }
   },
   "source": [
    "### Filtering\n",
    "\n",
    "* Convolution and kernels\n",
    "* Linear filters\n",
    "  * Mean filter\n",
    "  * Gauss filter\n",
    "  * Edge-enhancing filters\n",
    "* Non-linear filters\n",
    "  * Median filter\n",
    "  * Minimum and maximum filters\n",
    "* Binary morphological operations\n"
   ]
  },
  {
   "cell_type": "markdown",
   "metadata": {
    "slideshow": {
     "slide_type": "slide"
    }
   },
   "source": [
    "#### Convolution\n",
    "\n",
    "Digital image convolution is a process where each pixel is assigned the result of a matrix multiplication:\n",
    "\n",
    "$result = (i)mage * (k)ernel$\n",
    "\n",
    "$result = \\begin{bmatrix}\n",
    "i_{1,1} & i_{2,1} & i_{3,1} \\\\\n",
    "i_{1,2} & i_{2,2} & i_{3,2} \\\\\n",
    "i_{1,3} & i_{2,3} & i_{3,3}\n",
    "\\end{bmatrix} * \\begin{bmatrix}\n",
    "k_{1,1} & k_{2,1} & k_{3,1} \\\\\n",
    "k_{1,2} & k_{2,2} & k_{3,2} \\\\\n",
    "k_{1,3} & k_{2,3} & k_{3,3}\n",
    "\\end{bmatrix}\n",
    "$\n"
   ]
  },
  {
   "cell_type": "markdown",
   "metadata": {
    "slideshow": {
     "slide_type": "slide"
    }
   },
   "source": [
    "#### Linear filters\n",
    "<small>\n",
    "Identity: $\\begin{bmatrix}\n",
    "0 & 0 & 0 \\\\\n",
    "0 & 1 & 0 \\\\\n",
    "0 & 0 & 0\n",
    "\\end{bmatrix}$\n",
    "Mean: $\\begin{bmatrix}\n",
    "\\frac{1}{9} & \\frac{1}{9} & \\frac{1}{9} \\\\\n",
    "\\frac{1}{9} & \\frac{1}{9} & \\frac{1}{9} \\\\\n",
    "\\frac{1}{9} & \\frac{1}{9} & \\frac{1}{9}\n",
    "\\end{bmatrix}$\n",
    "Sobel: $\\begin{bmatrix}\n",
    "-1 & 0 & 1 \\\\\n",
    "-2 & 0 & 2 \\\\\n",
    "-1 & 0 & 1\n",
    "\\end{bmatrix}$\n",
    "Laplace: $\\begin{bmatrix}\n",
    "0 &  1 & 0 \\\\\n",
    "1 & -4 & 1 \\\\\n",
    "0 &  1 & 0\n",
    "\\end{bmatrix}$\n",
    "</small>\n",
    "* Try these kernels with *Process > Filters > Convolve...*"
   ]
  },
  {
   "cell_type": "markdown",
   "metadata": {
    "slideshow": {
     "slide_type": "slide"
    }
   },
   "source": [
    "#### Linear filters - Exercise\n",
    "\n",
    "* Open the *boats* sample image\n",
    "* How many implementations of Mean Filter are there in ImageJ? What's their difference?\n",
    "* Create a Mean filter with radius 10; what are the kernel dimensions?\n"
   ]
  },
  {
   "cell_type": "markdown",
   "metadata": {
    "slideshow": {
     "slide_type": "slide"
    }
   },
   "source": [
    "#### The Gaussian Filter Kernel\n",
    "\n",
    "Approximate representation of a Gauss filter kernel\n",
    "\n",
    "$\\frac{1}{256}\n",
    "\\begin{bmatrix}\n",
    "1 & 4 & 6 & 4 & 1 \\\\\n",
    "4 & 16 & 24 & 16 & 4 \\\\\n",
    "6 & 24 & 36 & 24 & 6 \\\\\n",
    "4 & 16 & 24 & 16 & 4 \\\\\n",
    "1 & 4 & 6 & 4 & 1\n",
    "\\end{bmatrix}$"
   ]
  },
  {
   "cell_type": "markdown",
   "metadata": {
    "slideshow": {
     "slide_type": "slide"
    }
   },
   "source": [
    "#### Linear filters in the ImageJ menu\n",
    "<small>\n",
    "* [*Process*](https://imagej.net/docs/guide/146-29.html#toc-Section-29)\n",
    "  * *Smooth*\n",
    "  * *Sharpen*\n",
    "  * *Find Edges*\n",
    "  * [*Filters*](https://imagej.net/docs/guide/146-29.html#toc-Subsection-29.11)\n",
    "    * *Gaussian Blur...*\n",
    "    * *Mean...*\n",
    "</small>"
   ]
  },
  {
   "cell_type": "markdown",
   "metadata": {
    "slideshow": {
     "slide_type": "slide"
    }
   },
   "source": [
    "#### Rank filters (non-linear filters)\n",
    "\n",
    "* Median filter\n",
    "* Minimum filter\n",
    "* Maximum filter\n"
   ]
  },
  {
   "cell_type": "markdown",
   "metadata": {
    "slideshow": {
     "slide_type": "slide"
    }
   },
   "source": [
    "#### Binary morphological operations\n",
    "\n",
    "* Dilate\n",
    "* Erode\n",
    "* Open (Erode, then Dilate)\n",
    "* Close (Dilate, then Erode)\n",
    "\n",
    "https://en.wikipedia.org/wiki/Mathematical_morphology\n"
   ]
  },
  {
   "cell_type": "markdown",
   "metadata": {
    "slideshow": {
     "slide_type": "slide"
    }
   },
   "source": [
    "#### Morphological operations - Exercise\n",
    "\n",
    "* Discard all small objects in the image\n",
    "* Find all vertical lines in the image"
   ]
  }
 ],
 "metadata": {
  "kernelspec": {
   "display_name": "SciJava",
   "language": "groovy",
   "name": "scijava"
  },
  "language_info": {
   "codemirror_mode": "groovy",
   "file_extension": "",
   "mimetype": "",
   "name": "scijava",
   "nbconverter_exporter": "",
   "pygments_lexer": "groovy",
   "version": "1.0"
  },
  "livereveal": {
   "autolaunch": true,
   "scroll": true
  }
 },
 "nbformat": 4,
 "nbformat_minor": 2
}
