{
 "cells": [
  {
   "cell_type": "markdown",
   "metadata": {},
   "source": [
    "### Assignment 2\n",
    "\n",
    "#### Dataset\n",
    "\n",
    "Images from the BBBC022 dataset (https://data.broadinstitute.org/bbbc/BBBC022/)\n",
    "\n",
    "**Subset**: wells `A01`-`A09`, positions `s1`-`s9`, channels `w1` and `w5`\n",
    "\n",
    "![BBBC022_A01_s9](images/BBBC022_A01_s9.png)"
   ]
  },
  {
   "cell_type": "markdown",
   "metadata": {},
   "source": [
    "#### Task\n",
    "\n",
    "* Segment the nuclei in channel 1 (`_w1` in the filename) and count them\n",
    "* Count the number of spots (local maxima) in channel 5 (`_w5` in the filename)\n",
    "* (Bonus) quantify the number of spots with respect to each cell\n",
    "\n",
    "  Possible strategies:\n",
    "  * Only take into account the immediate periphery of each nucleus, by making a band selection\n",
    "  * Measure all spots and attribute each to the closest nucleus\n",
    "\n",
    "\n",
    "* For each image in the dataset, report the ratio of number of spots to number of cells\n",
    "* (Bonus) For each image in the dataset, report the number of cells containing more than 5 spots\n"
   ]
  },
  {
   "cell_type": "markdown",
   "metadata": {},
   "source": [
    "#### Steps\n",
    "\n",
    "0. Determine the processing steps\n",
    "  0. Pre-process the image as necessary (smoothing, background subtraction) for segmenting the nuclei\n",
    "  0. Segment nuclei in channel 1 using an appropriate threshold\n",
    "  0. Detect local maxima on channel 5\n",
    "  0. Calculate the ratio\n",
    "  0. (Bonus) Determine the area where spots should be measured, using one of the following strategies:\n",
    "    * Make a band selection around each nucleus\n",
    "    * Use a Voronoi segmentation to segment the image into areas assigned to the closest nucleus\n",
    "0. Record a macro\n",
    "  0. Use the macro recorder to generate a macro performing the task above\n",
    "  0. Make sure this macro runs and gives the same results compared to the manual analysis\n",
    "0. Make the macro generic\n",
    "  0. Replace any parts of the macro referring to a specific file or window name by a generic variable\n",
    "  0. Add comments to explain the main functionality\n",
    "  0. Make sure the macro still gives the expected results\n",
    "0. Batch processing\n",
    "  0. Open the *Process Folder* template in the script editor\n",
    "  0. Paste your own macro code in the appropriate place of the template to allow analysis of the entire dataset\n",
    "\n",
    "*Hand in*:\n",
    "0. Mask image for nucleus segmentation for a single image (please specify)\n",
    "0. Raw export (xls) of the results table used to get the spot count\n",
    "0. Macro file that runs the analysis on a given single image (please specify)\n",
    "0. Generic macro that runs on any single image from the dataset\n",
    "0. Final batch-processing script\n"
   ]
  }
 ],
 "metadata": {
  "kernelspec": {
   "display_name": "SciJava",
   "language": "groovy",
   "name": "scijava"
  },
  "language_info": {
   "codemirror_mode": "groovy",
   "file_extension": "",
   "mimetype": "",
   "name": "scijava",
   "nbconverter_exporter": "",
   "pygments_lexer": "groovy",
   "version": "1.0"
  }
 },
 "nbformat": 4,
 "nbformat_minor": 2
}
